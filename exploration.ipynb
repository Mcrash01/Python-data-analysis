{
 "cells": [
  {
   "cell_type": "code",
   "execution_count": null,
   "metadata": {},
   "outputs": [],
   "source": [
    "# to do:\n",
    "# - import dataset\n",
    "# - explorer (noms des columns, taille, valeurs manquantes, valeurs uniques, type de données)\n",
    "# - visualisation (histogramme, boxplot, scatterplot, heatmap, pairplot)\n",
    "# - nettoyage (valeurs manquantes, valeurs aberrantes, valeurs dupliquées, valeurs incohérentes)\n",
    "# - feature engineering (création de nouvelles variables, transformation de variables, sélection de variables)"
   ]
  }
 ],
 "metadata": {
  "language_info": {
   "name": "python"
  }
 },
 "nbformat": 4,
 "nbformat_minor": 2
}
